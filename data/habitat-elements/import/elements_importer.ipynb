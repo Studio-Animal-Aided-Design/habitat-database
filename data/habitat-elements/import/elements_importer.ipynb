{
 "cells": [
  {
   "cell_type": "code",
   "execution_count": 5,
   "metadata": {},
   "outputs": [
    {
     "name": "stdout",
     "output_type": "stream",
     "text": [
      "Defaulting to user installation because normal site-packages is not writeable\n",
      "Requirement already satisfied: python-slugify in /Users/ckonrad/Library/Python/3.9/lib/python/site-packages (8.0.4)\n",
      "Requirement already satisfied: text-unidecode>=1.3 in /Users/ckonrad/Library/Python/3.9/lib/python/site-packages (from python-slugify) (1.3)\n",
      "\u001b[33mWARNING: You are using pip version 21.2.4; however, version 24.3.1 is available.\n",
      "You should consider upgrading via the '/Library/Developer/CommandLineTools/usr/bin/python3 -m pip install --upgrade pip' command.\u001b[0m\n"
     ]
    }
   ],
   "source": [
    "import sys\n",
    "#!{sys.executable} -m pip install pandas\n",
    "#!{sys.executable} -m pip install openpyxl\n",
    "!{sys.executable} -m pip install python-slugify\n"
   ]
  },
  {
   "cell_type": "code",
   "execution_count": 1,
   "metadata": {},
   "outputs": [
    {
     "data": {
      "text/plain": [
       "['Habitatelemente_Zielarten', 'Habitatelemente']"
      ]
     },
     "execution_count": 1,
     "metadata": {},
     "output_type": "execute_result"
    }
   ],
   "source": [
    "import pandas as pd\n",
    "\n",
    "# Load the Excel file\n",
    "file_path = '../20241106_NEB AAD Habitatelemente Zielarten.xlsx'\n",
    "xls = pd.ExcelFile(file_path)\n",
    "\n",
    "# Check the sheet names to locate \"Arbeitsblatt 2 (Habitatelemente)\"\n",
    "xls.sheet_names\n"
   ]
  },
  {
   "cell_type": "code",
   "execution_count": 2,
   "metadata": {},
   "outputs": [
    {
     "data": {
      "text/html": [
       "<div>\n",
       "<style scoped>\n",
       "    .dataframe tbody tr th:only-of-type {\n",
       "        vertical-align: middle;\n",
       "    }\n",
       "\n",
       "    .dataframe tbody tr th {\n",
       "        vertical-align: top;\n",
       "    }\n",
       "\n",
       "    .dataframe thead th {\n",
       "        text-align: right;\n",
       "    }\n",
       "</style>\n",
       "<table border=\"1\" class=\"dataframe\">\n",
       "  <thead>\n",
       "    <tr style=\"text-align: right;\">\n",
       "      <th></th>\n",
       "      <th>Habitatelement_Typ</th>\n",
       "      <th>Habitatelement</th>\n",
       "      <th>Größe</th>\n",
       "      <th>Standort</th>\n",
       "      <th>Maßnahme (Beschreibung /Anlage / Bauweise)</th>\n",
       "      <th>Pflege</th>\n",
       "      <th>in Kombination mit</th>\n",
       "      <th>URL Bilddatei</th>\n",
       "    </tr>\n",
       "  </thead>\n",
       "  <tbody>\n",
       "    <tr>\n",
       "      <th>0</th>\n",
       "      <td>Vegetation</td>\n",
       "      <td>Rasen</td>\n",
       "      <td>NaN</td>\n",
       "      <td>NaN</td>\n",
       "      <td>Frisch gemähte (daher kurzrasige) Wiesen. Ansa...</td>\n",
       "      <td>Mahd ca. 8-10 x pro Jahr. Die Mahd sollte mit ...</td>\n",
       "      <td>Altgrasstreifen</td>\n",
       "      <td>https://animal-aided-design.de/wp-content/uplo...</td>\n",
       "    </tr>\n",
       "    <tr>\n",
       "      <th>1</th>\n",
       "      <td>Vegetation</td>\n",
       "      <td>Blumenrasen</td>\n",
       "      <td>NaN</td>\n",
       "      <td>NaN</td>\n",
       "      <td>Ansaat mit Regiosaatgut Blumenrasen. Die Ansaa...</td>\n",
       "      <td>Mahd ca. 5 x pro Jahr. Die Mahd sollte mit tie...</td>\n",
       "      <td>Altgrasstreifen</td>\n",
       "      <td>https://animal-aided-design.de/wp-content/uplo...</td>\n",
       "    </tr>\n",
       "    <tr>\n",
       "      <th>2</th>\n",
       "      <td>Vegetation</td>\n",
       "      <td>Blumenwiese</td>\n",
       "      <td>NaN</td>\n",
       "      <td>NaN</td>\n",
       "      <td>Die Anlage der Wiesenflächen kann durch Aussaa...</td>\n",
       "      <td>Mahd 1-2 x pro Jahr. Wiesenflächen sind im Spä...</td>\n",
       "      <td>Altgrasstreifen</td>\n",
       "      <td>https://animal-aided-design.de/wp-content/uplo...</td>\n",
       "    </tr>\n",
       "    <tr>\n",
       "      <th>3</th>\n",
       "      <td>Vegetation</td>\n",
       "      <td>Magerrasen</td>\n",
       "      <td>NaN</td>\n",
       "      <td>trocken, sonnig</td>\n",
       "      <td>Ansaat Regiosaatgut Magerrasenmischung an nähr...</td>\n",
       "      <td>Die Magerrasenflächen sind im Wechsel nur alle...</td>\n",
       "      <td>Altgrasstreifen</td>\n",
       "      <td>https://animal-aided-design.de/wp-content/uplo...</td>\n",
       "    </tr>\n",
       "    <tr>\n",
       "      <th>4</th>\n",
       "      <td>Vegetation</td>\n",
       "      <td>Magerrasen mit Ameisenvorkommen</td>\n",
       "      <td>NaN</td>\n",
       "      <td>trocken, sonnig</td>\n",
       "      <td>Ansaat Regiosaatgut Magerrasenmischung an nähr...</td>\n",
       "      <td>Mahd ca.1 x pro Jahr mit Handsense, Spindelmäh...</td>\n",
       "      <td>NaN</td>\n",
       "      <td>NaN</td>\n",
       "    </tr>\n",
       "  </tbody>\n",
       "</table>\n",
       "</div>"
      ],
      "text/plain": [
       "  Habitatelement_Typ                   Habitatelement Größe         Standort  \\\n",
       "0         Vegetation                            Rasen   NaN              NaN   \n",
       "1         Vegetation                      Blumenrasen   NaN              NaN   \n",
       "2         Vegetation                      Blumenwiese   NaN              NaN   \n",
       "3         Vegetation                       Magerrasen   NaN  trocken, sonnig   \n",
       "4         Vegetation  Magerrasen mit Ameisenvorkommen   NaN  trocken, sonnig   \n",
       "\n",
       "          Maßnahme (Beschreibung /Anlage / Bauweise)  \\\n",
       "0  Frisch gemähte (daher kurzrasige) Wiesen. Ansa...   \n",
       "1  Ansaat mit Regiosaatgut Blumenrasen. Die Ansaa...   \n",
       "2  Die Anlage der Wiesenflächen kann durch Aussaa...   \n",
       "3  Ansaat Regiosaatgut Magerrasenmischung an nähr...   \n",
       "4  Ansaat Regiosaatgut Magerrasenmischung an nähr...   \n",
       "\n",
       "                                              Pflege in Kombination mit  \\\n",
       "0  Mahd ca. 8-10 x pro Jahr. Die Mahd sollte mit ...    Altgrasstreifen   \n",
       "1  Mahd ca. 5 x pro Jahr. Die Mahd sollte mit tie...    Altgrasstreifen   \n",
       "2  Mahd 1-2 x pro Jahr. Wiesenflächen sind im Spä...    Altgrasstreifen   \n",
       "3  Die Magerrasenflächen sind im Wechsel nur alle...    Altgrasstreifen   \n",
       "4  Mahd ca.1 x pro Jahr mit Handsense, Spindelmäh...                NaN   \n",
       "\n",
       "                                       URL Bilddatei  \n",
       "0  https://animal-aided-design.de/wp-content/uplo...  \n",
       "1  https://animal-aided-design.de/wp-content/uplo...  \n",
       "2  https://animal-aided-design.de/wp-content/uplo...  \n",
       "3  https://animal-aided-design.de/wp-content/uplo...  \n",
       "4                                                NaN  "
      ]
     },
     "execution_count": 2,
     "metadata": {},
     "output_type": "execute_result"
    }
   ],
   "source": [
    "# Load the second sheet \"Habitatelemente\"\n",
    "df = pd.read_excel(xls, sheet_name='Habitatelemente')\n",
    "\n",
    "# Check the first few rows to understand its structure\n",
    "df.head()"
   ]
  },
  {
   "cell_type": "code",
   "execution_count": 3,
   "metadata": {},
   "outputs": [
    {
     "data": {
      "text/plain": [
       "'./out/habitat_elements.csv'"
      ]
     },
     "execution_count": 3,
     "metadata": {},
     "output_type": "execute_result"
    }
   ],
   "source": [
    "from slugify import slugify\n",
    "\n",
    "# Clean the column names for snake_case and English translation\n",
    "df.columns = [\n",
    "    'habitat_element_type', 'habitat_element', 'size', 'location',\n",
    "    'measure_description', 'maintenance', 'combined_with', 'image_url'\n",
    "]\n",
    "\n",
    "# drop image url as not needed in this table, but in separate table\n",
    "df.drop(columns=['image_url'])\n",
    "\n",
    "# Generate unique IDs from the 'habitat_element' column in snake_case\n",
    "#df['id'] = df['habitat_element'].str.lower().str.replace(r'\\s+', '_', regex=True)\n",
    "df['id'] = df['habitat_element'].apply(lambda x: slugify(x, separator=\"_\", replacements=[('ä', 'ae'), ('ö', 'oe'), ('ü', 'ue'), ('ß', 'ss')]))\n",
    "\n",
    "# Reorder columns to have 'id' as the first column\n",
    "df = df[['id', 'habitat_element', 'habitat_element_type', 'size', 'location', \n",
    "         'measure_description', 'maintenance', 'combined_with']]\n",
    "\n",
    "# Convert to CSV format\n",
    "csv_file_path = './out/habitat_elements.csv'\n",
    "df.to_csv(csv_file_path, index=False)\n",
    "\n",
    "csv_file_path\n"
   ]
  }
 ],
 "metadata": {
  "kernelspec": {
   "display_name": "Python 3",
   "language": "python",
   "name": "python3"
  },
  "language_info": {
   "codemirror_mode": {
    "name": "ipython",
    "version": 3
   },
   "file_extension": ".py",
   "mimetype": "text/x-python",
   "name": "python",
   "nbconvert_exporter": "python",
   "pygments_lexer": "ipython3",
   "version": "3.9.6"
  }
 },
 "nbformat": 4,
 "nbformat_minor": 2
}
