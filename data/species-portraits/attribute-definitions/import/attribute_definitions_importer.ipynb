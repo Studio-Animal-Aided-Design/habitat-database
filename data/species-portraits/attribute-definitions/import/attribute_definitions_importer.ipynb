{
 "cells": [
  {
   "cell_type": "code",
   "execution_count": 5,
   "metadata": {},
   "outputs": [
    {
     "name": "stdout",
     "output_type": "stream",
     "text": [
      "Defaulting to user installation because normal site-packages is not writeable\n",
      "Requirement already satisfied: python-slugify in /Users/ckonrad/Library/Python/3.9/lib/python/site-packages (8.0.4)\n",
      "Requirement already satisfied: text-unidecode>=1.3 in /Users/ckonrad/Library/Python/3.9/lib/python/site-packages (from python-slugify) (1.3)\n",
      "\u001b[33mWARNING: You are using pip version 21.2.4; however, version 24.3.1 is available.\n",
      "You should consider upgrading via the '/Library/Developer/CommandLineTools/usr/bin/python3 -m pip install --upgrade pip' command.\u001b[0m\n"
     ]
    }
   ],
   "source": [
    "import sys\n",
    "#!{sys.executable} -m pip install pandas\n",
    "#!{sys.executable} -m pip install openpyxl\n",
    "!{sys.executable} -m pip install python-slugify\n"
   ]
  },
  {
   "cell_type": "code",
   "execution_count": 4,
   "metadata": {},
   "outputs": [
    {
     "data": {
      "text/plain": [
       "['Portrait', 'Lebenszyklus', 'Pflanzenliste', 'Literatur']"
      ]
     },
     "execution_count": 4,
     "metadata": {},
     "output_type": "execute_result"
    }
   ],
   "source": [
    "import pandas as pd\n",
    "\n",
    "# Load the Excel file\n",
    "file_path = '../20230717_Artenportrait_Strukturvorlage_Clean.xlsx'\n",
    "xls = pd.ExcelFile(file_path)\n",
    "\n",
    "# Check the sheet names to locate \"Portrait\"\n",
    "xls.sheet_names\n"
   ]
  },
  {
   "cell_type": "code",
   "execution_count": 16,
   "metadata": {},
   "outputs": [
    {
     "data": {
      "text/html": [
       "<div>\n",
       "<style scoped>\n",
       "    .dataframe tbody tr th:only-of-type {\n",
       "        vertical-align: middle;\n",
       "    }\n",
       "\n",
       "    .dataframe tbody tr th {\n",
       "        vertical-align: top;\n",
       "    }\n",
       "\n",
       "    .dataframe thead th {\n",
       "        text-align: right;\n",
       "    }\n",
       "</style>\n",
       "<table border=\"1\" class=\"dataframe\">\n",
       "  <thead>\n",
       "    <tr style=\"text-align: right;\">\n",
       "      <th></th>\n",
       "      <th>id</th>\n",
       "      <th>primary_sort</th>\n",
       "      <th>secondary_sort</th>\n",
       "      <th>level1_category</th>\n",
       "      <th>level2_category</th>\n",
       "      <th>level1_category_display_name</th>\n",
       "      <th>level2_category_display_name</th>\n",
       "      <th>field_name</th>\n",
       "      <th>display_name</th>\n",
       "      <th>description</th>\n",
       "      <th>explanation</th>\n",
       "    </tr>\n",
       "  </thead>\n",
       "  <tbody>\n",
       "    <tr>\n",
       "      <th>0</th>\n",
       "      <td>NaN</td>\n",
       "      <td>3</td>\n",
       "      <td>3</td>\n",
       "      <td>brief_characteristics</td>\n",
       "      <td>distribution_map</td>\n",
       "      <td>Kurzcharakteristik</td>\n",
       "      <td>Verbreitungskarte</td>\n",
       "      <td>distribution</td>\n",
       "      <td>Verbreitung</td>\n",
       "      <td>Karte der Verbreitung. Ideal: IUCN</td>\n",
       "      <td>NaN</td>\n",
       "    </tr>\n",
       "    <tr>\n",
       "      <th>1</th>\n",
       "      <td>NaN</td>\n",
       "      <td>6</td>\n",
       "      <td>6</td>\n",
       "      <td>brief_characteristics</td>\n",
       "      <td>brief_description</td>\n",
       "      <td>Kurzcharakteristik</td>\n",
       "      <td>Kurzbeschreibung</td>\n",
       "      <td>species_main_trait</td>\n",
       "      <td>Hauptmerkmal Art</td>\n",
       "      <td>Charakterisierung der Art in 2-3 Kurzsätzen</td>\n",
       "      <td>NaN</td>\n",
       "    </tr>\n",
       "    <tr>\n",
       "      <th>2</th>\n",
       "      <td>NaN</td>\n",
       "      <td>7</td>\n",
       "      <td>7</td>\n",
       "      <td>brief_characteristics</td>\n",
       "      <td>appearance_and_body_structure</td>\n",
       "      <td>Kurzcharakteristik</td>\n",
       "      <td>Aussehen und Körperbau</td>\n",
       "      <td>appearance</td>\n",
       "      <td>Aussehen</td>\n",
       "      <td>1-2 Kurzsätze zum Aussehen</td>\n",
       "      <td>NaN</td>\n",
       "    </tr>\n",
       "    <tr>\n",
       "      <th>3</th>\n",
       "      <td>NaN</td>\n",
       "      <td>8</td>\n",
       "      <td>8</td>\n",
       "      <td>brief_characteristics</td>\n",
       "      <td>appearance_and_body_structure</td>\n",
       "      <td>Kurzcharakteristik</td>\n",
       "      <td>Aussehen und Körperbau</td>\n",
       "      <td>morphology</td>\n",
       "      <td>Morphologie</td>\n",
       "      <td>1-2 Kurzsätze zur Größe und morphologischen Ei...</td>\n",
       "      <td>NaN</td>\n",
       "    </tr>\n",
       "    <tr>\n",
       "      <th>4</th>\n",
       "      <td>NaN</td>\n",
       "      <td>9</td>\n",
       "      <td>10</td>\n",
       "      <td>brief_characteristics</td>\n",
       "      <td>habitat_and_space_requirements</td>\n",
       "      <td>Kurzcharakteristik</td>\n",
       "      <td>Habitat und Raumansprüche</td>\n",
       "      <td>habitat</td>\n",
       "      <td>Habitat</td>\n",
       "      <td>1-2 Kurzsätze  zum Habitat, in dem die Art vor...</td>\n",
       "      <td>NaN</td>\n",
       "    </tr>\n",
       "  </tbody>\n",
       "</table>\n",
       "</div>"
      ],
      "text/plain": [
       "   id  primary_sort  secondary_sort        level1_category  \\\n",
       "0 NaN             3               3  brief_characteristics   \n",
       "1 NaN             6               6  brief_characteristics   \n",
       "2 NaN             7               7  brief_characteristics   \n",
       "3 NaN             8               8  brief_characteristics   \n",
       "4 NaN             9              10  brief_characteristics   \n",
       "\n",
       "                  level2_category level1_category_display_name  \\\n",
       "0                distribution_map           Kurzcharakteristik   \n",
       "1               brief_description           Kurzcharakteristik   \n",
       "2   appearance_and_body_structure           Kurzcharakteristik   \n",
       "3   appearance_and_body_structure           Kurzcharakteristik   \n",
       "4  habitat_and_space_requirements           Kurzcharakteristik   \n",
       "\n",
       "  level2_category_display_name          field_name      display_name  \\\n",
       "0            Verbreitungskarte        distribution       Verbreitung   \n",
       "1             Kurzbeschreibung  species_main_trait  Hauptmerkmal Art   \n",
       "2       Aussehen und Körperbau          appearance          Aussehen   \n",
       "3       Aussehen und Körperbau          morphology       Morphologie   \n",
       "4    Habitat und Raumansprüche             habitat           Habitat   \n",
       "\n",
       "                                         description explanation  \n",
       "0                 Karte der Verbreitung. Ideal: IUCN         NaN  \n",
       "1        Charakterisierung der Art in 2-3 Kurzsätzen         NaN  \n",
       "2                         1-2 Kurzsätze zum Aussehen         NaN  \n",
       "3  1-2 Kurzsätze zur Größe und morphologischen Ei...         NaN  \n",
       "4  1-2 Kurzsätze  zum Habitat, in dem die Art vor...         NaN  "
      ]
     },
     "execution_count": 16,
     "metadata": {},
     "output_type": "execute_result"
    }
   ],
   "source": [
    "# Load the second sheet \"Habitatelemente\"\n",
    "df = pd.read_excel(xls, sheet_name='Portrait')\n",
    "\n",
    "# Check the first few rows to understand its structure\n",
    "df.head()"
   ]
  },
  {
   "cell_type": "code",
   "execution_count": 17,
   "metadata": {},
   "outputs": [
    {
     "data": {
      "text/plain": [
       "'./out/species-attribute-definitions.csv'"
      ]
     },
     "execution_count": 17,
     "metadata": {},
     "output_type": "execute_result"
    }
   ],
   "source": [
    "from slugify import slugify\n",
    "\n",
    "\n",
    "# df.drop(columns=['id'])\n",
    "\n",
    "# Generate unique keys from level1_category, level2_category, and field_name\n",
    "#df['key'] = df['level1_category'].fillna('') + '_' + df['level2_category'].fillna('') + '_' + df['field_name'].fillna('')\n",
    "# Remove any leading or trailing underscores from the result\n",
    "#df['key'] = df['key'].str.strip('_')\n",
    "\n",
    "df['has_sources'] = True\n",
    "\n",
    "# Generate slugs from german display names to make import of portraits from XLSX easier (the files do not contain the english IDs)\n",
    "df['tmp'] = df['level1_category_display_name'].fillna('') + ' ' + df['level2_category_display_name'].fillna('') + ' ' + df['display_name'].fillna('')\n",
    "df['slug'] = df['tmp'].apply(lambda x: slugify(x, separator=\"_\", replacements=[('ä', 'ae'), ('ö', 'oe'), ('ü', 'ue'), ('ß', 'ss')]))\n",
    "df = df.drop(columns=['tmp'])\n",
    "\n",
    "# Convert to CSV format\n",
    "csv_file_path = './out/species-attribute-definitions.csv'\n",
    "df.to_csv(csv_file_path, index=False)\n",
    "\n",
    "csv_file_path\n"
   ]
  }
 ],
 "metadata": {
  "kernelspec": {
   "display_name": "Python 3",
   "language": "python",
   "name": "python3"
  },
  "language_info": {
   "codemirror_mode": {
    "name": "ipython",
    "version": 3
   },
   "file_extension": ".py",
   "mimetype": "text/x-python",
   "name": "python",
   "nbconvert_exporter": "python",
   "pygments_lexer": "ipython3",
   "version": "3.9.6"
  }
 },
 "nbformat": 4,
 "nbformat_minor": 2
}
