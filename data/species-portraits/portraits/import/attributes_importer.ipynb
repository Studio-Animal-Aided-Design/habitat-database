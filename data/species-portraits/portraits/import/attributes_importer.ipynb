{
 "cells": [
  {
   "cell_type": "code",
   "execution_count": 5,
   "metadata": {},
   "outputs": [
    {
     "name": "stdout",
     "output_type": "stream",
     "text": [
      "Defaulting to user installation because normal site-packages is not writeable\n",
      "Requirement already satisfied: python-slugify in /Users/ckonrad/Library/Python/3.9/lib/python/site-packages (8.0.4)\n",
      "Requirement already satisfied: text-unidecode>=1.3 in /Users/ckonrad/Library/Python/3.9/lib/python/site-packages (from python-slugify) (1.3)\n",
      "\u001b[33mWARNING: You are using pip version 21.2.4; however, version 24.3.1 is available.\n",
      "You should consider upgrading via the '/Library/Developer/CommandLineTools/usr/bin/python3 -m pip install --upgrade pip' command.\u001b[0m\n"
     ]
    }
   ],
   "source": [
    "import sys\n",
    "#!{sys.executable} -m pip install pandas\n",
    "#!{sys.executable} -m pip install openpyxl\n",
    "!{sys.executable} -m pip install python-slugify\n"
   ]
  },
  {
   "cell_type": "code",
   "execution_count": 22,
   "metadata": {},
   "outputs": [
    {
     "name": "stdout",
     "output_type": "stream",
     "text": [
      "Die Attribute für 20241105_Bärtige Sandbiene_Andrena barbilabris_AM.xlsx wurde erfolgreich exportiert nach: ./out/attributes/Andrena barbilabris_attributes.csv\n",
      "Die Attribute für 20241105_Haussperling_Passer_domesticus_AM.xlsx wurde erfolgreich exportiert nach: ./out/attributes/Passer domesticus_attributes.csv\n",
      "Die Attribute für 20240326_Gartenrotschwanz_Phoenicurus_phoenicurus_AM.xlsx wurde erfolgreich exportiert nach: ./out/attributes/Phoenicurus phoenicurus_attributes.csv\n",
      "Die Attribute für 20241011_Zwergfledermaus_PipistrellusPipistrellus_AM.xlsx wurde erfolgreich exportiert nach: ./out/attributes/Pipistrellus pipistrellus_attributes.csv\n",
      "Die Attribute für 20241105_Zweifarbfledermaus_Vespertilio_murinus_CE_AM.xlsx wurde erfolgreich exportiert nach: ./out/attributes/Vespertilio murinus_attributes.csv\n",
      "Die Attribute für 20241105_Spaltenwollbiene_Anthidium_oblongatum_AM.xlsx wurde erfolgreich exportiert nach: ./out/attributes/Anthidium oblongatum_attributes.csv\n",
      "Die Attribute für 20230320_Grauschnäpper_BP_AM.xlsx wurde erfolgreich exportiert nach: ./out/attributes/Muscicapa striata_attributes.csv\n",
      "Die Attribute für 20230619_Gimpel_Pyrrhula_Pyrrhula_BP_AM.xlsx wurde erfolgreich exportiert nach: ./out/attributes/Pyrrhula pyrrhula_attributes.csv\n",
      "Die Attribute für 20240808_Zauneidechse_LacertaAgilis_AM.xlsx wurde erfolgreich exportiert nach: ./out/attributes/Lacerta agilis_attributes.csv\n",
      "Die Attribute für 20240715_Grünspecht_PicusViridis_AM.xlsx wurde erfolgreich exportiert nach: ./out/attributes/Picus viridis_attributes.csv\n",
      "Die Attribute für 20230627_IdasBläuling_Plebejus_idas_AM.xlsx wurde erfolgreich exportiert nach: ./out/attributes/Plebejus idas_attributes.csv\n",
      "Die Attribute für 20240709_Mauersegler_ApusApus_AM.xlsx wurde erfolgreich exportiert nach: ./out/attributes/Apus apus_attributes.csv\n",
      "Die Attribute für 20230626_Schwalbenschwanz_Papilio_machaon_AM.xlsx wurde erfolgreich exportiert nach: ./out/attributes/Papilio machaon_attributes.csv\n",
      "Die Attribute für 20240109_Frühlingspelzbiene_Anthophora plumipes_AM.xlsx wurde erfolgreich exportiert nach: ./out/attributes/Anthophora plumipes_attributes.csv\n"
     ]
    }
   ],
   "source": [
    "import pandas as pd\n",
    "import os\n",
    "from slugify import slugify\n",
    "\n",
    "# Strukturvorlage laden, um allowlist für Attribute zu erhalten\n",
    "# !! diese muss vorher exportiert worden sein\n",
    "attribute_definitions_dir = '../../attribute-definitions/import/out/species-attribute-definitions.csv'\n",
    "attribute_definitions_df = pd.read_csv(attribute_definitions_dir)\n",
    "\n",
    "# Verzeichnis, in dem sich alle Excel-Dateien befinden\n",
    "directory = '../'\n",
    "\n",
    "# Definiere die Zielspeicherort für die CSV-Dateien\n",
    "output_directory = './out/attributes'\n",
    "\n",
    "# Lege sicher, dass der Ordner existiert, ansonsten erstelle ihn\n",
    "os.makedirs(output_directory, exist_ok=True)\n",
    "\n",
    "# Alle Dateien im Verzeichnis durchgehen\n",
    "for filename in os.listdir(directory):\n",
    "    # Überprüfen, ob die Datei eine .xlsx-Datei ist\n",
    "    if filename.endswith('.xlsx'):\n",
    "        file_path = os.path.join(directory, filename)\n",
    "        \n",
    "        # Excel-Datei laden und das Sheet \"Portrait\" einlesen\n",
    "        try:\n",
    "            df = pd.read_excel(file_path, sheet_name='Portrait')\n",
    "        except Exception as e:\n",
    "            print(f\"Fehler beim Laden der Datei {filename}: {e}\")\n",
    "            continue\n",
    "\n",
    "        # Überprüfen, ob die notwendigen Spalten vorhanden sind\n",
    "        #required_columns = ['scientific_name', 'Zweck', 'Anmerkungen', 'Quelle']\n",
    "        #if not all(col in df.columns for col in required_columns):\n",
    "        #    print(f\"Erforderliche Spalten fehlen in {filename}\")\n",
    "        #    continue\n",
    "\n",
    "        # Artenportrait aus dem Arbeitsblatt \"Artenportrait\" laden\n",
    "        try:\n",
    "            species_name = df.loc[0, 'Text']  # Annahme: Der lateinische Name steht in der ersten Zeile unter 'Text'\n",
    "        except Exception as e:\n",
    "            print(f\"Fehler beim Laden des Arbeitsblatts 'Artenportrait' in {filename}: {e}\")\n",
    "            continue\n",
    "        \n",
    "        #print(species_name)\n",
    "        # Headernamen anpassen\n",
    "        df.columns = [\n",
    "            'sort_1', 'sort_2', 'category_1', 'category_2', 'field_name',\n",
    "            'description', 'explanation', 'attribute_value', 'sources'\n",
    "        ]\n",
    "        \n",
    "        # slug erstellen zur Zuordnung zu den AttributeDefinitions\n",
    "        df['tmp'] = df['category_1'].fillna('') + ' ' + df['category_2'].fillna('') + ' ' + df['field_name'].fillna('')\n",
    "        df['attribute_slug'] = df['tmp'].apply(lambda x: slugify(x, separator=\"_\", replacements=[('ä', 'ae'), ('ö', 'oe'), ('ü', 'ue'), ('ß', 'ss')]))\n",
    "       \n",
    "        # irrelevante Columns droppen\n",
    "        df = df.drop(columns=['tmp', 'sort_1', 'sort_2', 'category_1', 'category_2', 'field_name', 'description', 'explanation'])\n",
    "\n",
    "        # filter by allowed attributes from schema file\n",
    "        df = df[df['attribute_slug'].isin(attribute_definitions_df['slug'])]\n",
    "\n",
    "        df['species'] = species_name\n",
    "\n",
    "        # Hinzufügen einer leeren 'id'-Spalte\n",
    "        df['id'] = None\n",
    "\n",
    "        # reorder columns to fit database col order for import\n",
    "        df = df[['id', 'attribute_value', 'sources', 'species', 'attribute_slug']]\n",
    "\n",
    "        # print(df.head())\n",
    "        \n",
    "        # Zielpfad für die CSV\n",
    "        #output_csv_path = os.path.join(output_directory, f\"{filename.split('.')[0]}_species_plant_relationship.csv\")\n",
    "        output_csv_path = os.path.join(output_directory, f\"{species_name}_attributes.csv\")\n",
    "        \n",
    "        # CSV-Datei exportieren\n",
    "        df.to_csv(output_csv_path, index=False)\n",
    "\n",
    "        print(f'Die Attribute für {filename} wurde erfolgreich exportiert nach: {output_csv_path}')\n"
   ]
  }
 ],
 "metadata": {
  "kernelspec": {
   "display_name": "Python 3",
   "language": "python",
   "name": "python3"
  },
  "language_info": {
   "codemirror_mode": {
    "name": "ipython",
    "version": 3
   },
   "file_extension": ".py",
   "mimetype": "text/x-python",
   "name": "python",
   "nbconvert_exporter": "python",
   "pygments_lexer": "ipython3",
   "version": "3.9.6"
  }
 },
 "nbformat": 4,
 "nbformat_minor": 2
}
